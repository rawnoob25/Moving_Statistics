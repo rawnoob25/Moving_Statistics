{
 "cells": [
  {
   "cell_type": "code",
   "execution_count": 54,
   "metadata": {
    "collapsed": true
   },
   "outputs": [],
   "source": [
    "import pandas as pd\n",
    "import numpy as np\n",
    "import matplotlib.pyplot as plt"
   ]
  },
  {
   "cell_type": "markdown",
   "metadata": {},
   "source": [
    "## The 'expanding' function"
   ]
  },
  {
   "cell_type": "markdown",
   "metadata": {},
   "source": [
    "*When you call the 'expanding' function, the function that follows it is applied to the data seen up to that point. It essentially makes the summary function that follows a cumulative function.*"
   ]
  },
  {
   "cell_type": "code",
   "execution_count": 55,
   "metadata": {},
   "outputs": [
    {
     "data": {
      "text/plain": [
       "0    1.0\n",
       "1    2.0\n",
       "2    3.0\n",
       "3    4.0\n",
       "4    NaN\n",
       "5    5.0\n",
       "6    6.0\n",
       "7    7.0\n",
       "8    NaN\n",
       "dtype: float64"
      ]
     },
     "execution_count": 55,
     "metadata": {},
     "output_type": "execute_result"
    }
   ],
   "source": [
    "vals = list(range(1,5))+[np.nan]+list(range(5,8))+[np.nan]\n",
    "vals = pd.Series(vals)\n",
    "vals"
   ]
  },
  {
   "cell_type": "code",
   "execution_count": 56,
   "metadata": {},
   "outputs": [
    {
     "data": {
      "text/plain": [
       "0     1.0\n",
       "1     3.0\n",
       "2     6.0\n",
       "3    10.0\n",
       "4    10.0\n",
       "5    15.0\n",
       "6    21.0\n",
       "7    28.0\n",
       "8    28.0\n",
       "dtype: float64"
      ]
     },
     "execution_count": 56,
     "metadata": {},
     "output_type": "execute_result"
    }
   ],
   "source": [
    "vals.expanding().sum()"
   ]
  },
  {
   "cell_type": "code",
   "execution_count": 57,
   "metadata": {},
   "outputs": [
    {
     "data": {
      "text/plain": [
       "0    1.0\n",
       "1    1.5\n",
       "2    2.0\n",
       "3    2.5\n",
       "4    2.5\n",
       "5    3.0\n",
       "6    3.5\n",
       "7    4.0\n",
       "8    4.0\n",
       "dtype: float64"
      ]
     },
     "execution_count": 57,
     "metadata": {},
     "output_type": "execute_result"
    }
   ],
   "source": [
    "vals.expanding().mean()"
   ]
  },
  {
   "cell_type": "markdown",
   "metadata": {},
   "source": [
    "*Notice above how the mean stays the same between the value preceding a NaN and the NaN even though you technically have an additional observation to average over (so you'd expect the mean to go down); this is because the mean() function doesn't take into account missing values - i.e. they won't be factored into the total number of values*"
   ]
  },
  {
   "cell_type": "markdown",
   "metadata": {},
   "source": [
    "*A minimum number of periods can be passed to the expanding function. The function that follows (this is 'sum' in the below case) will still be applied to all of the data seen up to that point, BUT application of the function will only begin with the nth element, where n is the parameter passed in for min_periods (it's 3 in the below cell).*"
   ]
  },
  {
   "cell_type": "code",
   "execution_count": 58,
   "metadata": {},
   "outputs": [
    {
     "data": {
      "text/plain": [
       "0     NaN\n",
       "1     NaN\n",
       "2     6.0\n",
       "3    10.0\n",
       "4    10.0\n",
       "5    15.0\n",
       "6    21.0\n",
       "7    28.0\n",
       "8    28.0\n",
       "dtype: float64"
      ]
     },
     "execution_count": 58,
     "metadata": {},
     "output_type": "execute_result"
    }
   ],
   "source": [
    "vals.expanding(min_periods=3).sum()"
   ]
  },
  {
   "cell_type": "markdown",
   "metadata": {},
   "source": [
    "## The 'rolling' function"
   ]
  },
  {
   "cell_type": "markdown",
   "metadata": {},
   "source": [
    "*The 'rolling' function doesn't reach all the way back to the beginning to compute the summary statistic that follows. It reaches only as far back as specified by the window. So the summary statistic is computed using the observation's value and the n-1 observations before it (where n is the window size; it's 3 in the below example).*\n",
    "\n",
    "*This means you'll have missing values for the first n-1 observations.*\n",
    "\n",
    "<b>Applying a rolling mean can smooth out noisy data</b><br>\n",
    "*For e.g. below we have what's basically linear growth with some superimposed sinusoidal volatility. Notice how the rolling mean smooths it out.*"
   ]
  },
  {
   "cell_type": "code",
   "execution_count": 59,
   "metadata": {},
   "outputs": [],
   "source": [
    "vals = [10*x+30*np.sin(30*x) for x in range(-15,15)]\n",
    "vals = pd.Series(vals)"
   ]
  },
  {
   "cell_type": "code",
   "execution_count": 60,
   "metadata": {
    "collapsed": true
   },
   "outputs": [],
   "source": [
    "%matplotlib inline"
   ]
  },
  {
   "cell_type": "code",
   "execution_count": 61,
   "metadata": {},
   "outputs": [
    {
     "data": {
      "image/png": "[encoded data removed]",
      "text/plain": [
       "<matplotlib.figure.Figure at 0x2780dbe9be0>"
      ]
     },
     "metadata": {},
     "output_type": "display_data"
    }
   ],
   "source": [
    "avgs = vals.rolling(window=3).mean()\n",
    "vals_avgs = pd.DataFrame({'values':vals,'averages':avgs})\n",
    "vals_avgs.plot()\n",
    "plt.show()"
   ]
  },
  {
   "cell_type": "markdown",
   "metadata": {},
   "source": [
    "*Here's another example that plainly reveals that, for k >= window_range - 1 and original dataset, S, we're mapping each observation at index k (call it S[k]) to <br>T[k] = average(s[k - window_range - 1]..s[k]) in the transformed dataset.*"
   ]
  },
  {
   "cell_type": "code",
   "execution_count": 62,
   "metadata": {},
   "outputs": [
    {
     "data": {
      "text/plain": [
       "0     1\n",
       "1     4\n",
       "2     9\n",
       "3    16\n",
       "4    25\n",
       "5    36\n",
       "6    49\n",
       "7    64\n",
       "8    81\n",
       "dtype: int64"
      ]
     },
     "execution_count": 62,
     "metadata": {},
     "output_type": "execute_result"
    }
   ],
   "source": [
    "quadr = [x**2 for x in range(1,10)]\n",
    "quadr = pd.Series(quadr)\n",
    "quadr"
   ]
  },
  {
   "cell_type": "code",
   "execution_count": 63,
   "metadata": {},
   "outputs": [
    {
     "data": {
      "text/plain": [
       "0          NaN\n",
       "1          NaN\n",
       "2     4.666667\n",
       "3     9.666667\n",
       "4    16.666667\n",
       "5    25.666667\n",
       "6    36.666667\n",
       "7    49.666667\n",
       "8    64.666667\n",
       "dtype: float64"
      ]
     },
     "execution_count": 63,
     "metadata": {},
     "output_type": "execute_result"
    }
   ],
   "source": [
    "quadr_avgs = quadr.rolling(window =3).mean()\n",
    "quadr_avgs"
   ]
  },
  {
   "cell_type": "code",
   "execution_count": 64,
   "metadata": {},
   "outputs": [
    {
     "data": {
      "text/plain": [
       "0      NaN\n",
       "1      NaN\n",
       "2     14.0\n",
       "3     29.0\n",
       "4     50.0\n",
       "5     77.0\n",
       "6    110.0\n",
       "7    149.0\n",
       "8    194.0\n",
       "dtype: float64"
      ]
     },
     "execution_count": 64,
     "metadata": {},
     "output_type": "execute_result"
    }
   ],
   "source": [
    "quadr_sums = quadr.rolling(window = 3).sum()\n",
    "quadr_sums"
   ]
  }
 ],
 "metadata": {
  "kernelspec": {
   "display_name": "Python 3",
   "language": "python",
   "name": "python3"
  },
  "language_info": {
   "codemirror_mode": {
    "name": "ipython",
    "version": 3
   },
   "file_extension": ".py",
   "mimetype": "text/x-python",
   "name": "python",
   "nbconvert_exporter": "python",
   "pygments_lexer": "ipython3",
   "version": "3.6.1"
  }
 },
 "nbformat": 4,
 "nbformat_minor": 2
}
